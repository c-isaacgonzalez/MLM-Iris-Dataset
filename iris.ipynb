{
  "nbformat": 4,
  "nbformat_minor": 0,
  "metadata": {
    "colab": {
      "name": "iris.ipynb",
      "provenance": []
    },
    "kernelspec": {
      "name": "python3",
      "display_name": "Python 3"
    },
    "language_info": {
      "name": "python"
    }
  },
  "cells": [
    {
      "cell_type": "code",
      "execution_count": null,
      "metadata": {
        "id": "aWL6MkeMYvjy"
      },
      "outputs": [],
      "source": [
        "# Importamos librerías de manejo numérico y procesamiento de datos.\n",
        "import numpy as np\n",
        "import pandas as pd\n",
        "import sklearn\n",
        "\n",
        "from sklearn import datasets\n",
        "\n",
        "from sklearn import linear_model\n",
        "from sklearn.ensemble import RandomForestClassifier\n",
        "from sklearn.cluster import KMeans\n",
        "\n",
        "from sklearn.metrics import mean_squared_error, r2_score, accuracy_score\n",
        "\n",
        "import matplotlib.pyplot as plt\n",
        "from mpl_toolkits.mplot3d import Axes3D\n",
        "\n",
        "plt.rcParams['font.size']=15"
      ]
    },
    {
      "cell_type": "code",
      "source": [
        "iris = datasets.load_iris()\n",
        "\n",
        "# DataFrame con los feature names.\n",
        "data = pd.DataFrame(data=iris.data, columns=iris.feature_names)\n",
        "\n",
        "# DataFrame con los targets \n",
        "target = pd.DataFrame(data=iris.target, columns=['species'])\n",
        "\n",
        "data = pd.concat([data, target], axis=1)\n",
        "\n",
        "# ramdom\n",
        "data = data.sample(frac=1, random_state=1234)\n",
        "\n",
        "data.head()"
      ],
      "metadata": {
        "colab": {
          "base_uri": "https://localhost:8080/",
          "height": 206
        },
        "id": "sBYyLUMBY3D1",
        "outputId": "581ab457-bf90-4bce-f6c9-74744df3eba3"
      },
      "execution_count": null,
      "outputs": [
        {
          "output_type": "execute_result",
          "data": {
            "text/html": [
              "\n",
              "  <div id=\"df-a779184f-90d4-4601-be97-e24d7386bd0c\">\n",
              "    <div class=\"colab-df-container\">\n",
              "      <div>\n",
              "<style scoped>\n",
              "    .dataframe tbody tr th:only-of-type {\n",
              "        vertical-align: middle;\n",
              "    }\n",
              "\n",
              "    .dataframe tbody tr th {\n",
              "        vertical-align: top;\n",
              "    }\n",
              "\n",
              "    .dataframe thead th {\n",
              "        text-align: right;\n",
              "    }\n",
              "</style>\n",
              "<table border=\"1\" class=\"dataframe\">\n",
              "  <thead>\n",
              "    <tr style=\"text-align: right;\">\n",
              "      <th></th>\n",
              "      <th>sepal length (cm)</th>\n",
              "      <th>sepal width (cm)</th>\n",
              "      <th>petal length (cm)</th>\n",
              "      <th>petal width (cm)</th>\n",
              "      <th>species</th>\n",
              "    </tr>\n",
              "  </thead>\n",
              "  <tbody>\n",
              "    <tr>\n",
              "      <th>91</th>\n",
              "      <td>6.1</td>\n",
              "      <td>3.0</td>\n",
              "      <td>4.6</td>\n",
              "      <td>1.4</td>\n",
              "      <td>1</td>\n",
              "    </tr>\n",
              "    <tr>\n",
              "      <th>63</th>\n",
              "      <td>6.1</td>\n",
              "      <td>2.9</td>\n",
              "      <td>4.7</td>\n",
              "      <td>1.4</td>\n",
              "      <td>1</td>\n",
              "    </tr>\n",
              "    <tr>\n",
              "      <th>103</th>\n",
              "      <td>6.3</td>\n",
              "      <td>2.9</td>\n",
              "      <td>5.6</td>\n",
              "      <td>1.8</td>\n",
              "      <td>2</td>\n",
              "    </tr>\n",
              "    <tr>\n",
              "      <th>6</th>\n",
              "      <td>4.6</td>\n",
              "      <td>3.4</td>\n",
              "      <td>1.4</td>\n",
              "      <td>0.3</td>\n",
              "      <td>0</td>\n",
              "    </tr>\n",
              "    <tr>\n",
              "      <th>59</th>\n",
              "      <td>5.2</td>\n",
              "      <td>2.7</td>\n",
              "      <td>3.9</td>\n",
              "      <td>1.4</td>\n",
              "      <td>1</td>\n",
              "    </tr>\n",
              "  </tbody>\n",
              "</table>\n",
              "</div>\n",
              "      <button class=\"colab-df-convert\" onclick=\"convertToInteractive('df-a779184f-90d4-4601-be97-e24d7386bd0c')\"\n",
              "              title=\"Convert this dataframe to an interactive table.\"\n",
              "              style=\"display:none;\">\n",
              "        \n",
              "  <svg xmlns=\"http://www.w3.org/2000/svg\" height=\"24px\"viewBox=\"0 0 24 24\"\n",
              "       width=\"24px\">\n",
              "    <path d=\"M0 0h24v24H0V0z\" fill=\"none\"/>\n",
              "    <path d=\"M18.56 5.44l.94 2.06.94-2.06 2.06-.94-2.06-.94-.94-2.06-.94 2.06-2.06.94zm-11 1L8.5 8.5l.94-2.06 2.06-.94-2.06-.94L8.5 2.5l-.94 2.06-2.06.94zm10 10l.94 2.06.94-2.06 2.06-.94-2.06-.94-.94-2.06-.94 2.06-2.06.94z\"/><path d=\"M17.41 7.96l-1.37-1.37c-.4-.4-.92-.59-1.43-.59-.52 0-1.04.2-1.43.59L10.3 9.45l-7.72 7.72c-.78.78-.78 2.05 0 2.83L4 21.41c.39.39.9.59 1.41.59.51 0 1.02-.2 1.41-.59l7.78-7.78 2.81-2.81c.8-.78.8-2.07 0-2.86zM5.41 20L4 18.59l7.72-7.72 1.47 1.35L5.41 20z\"/>\n",
              "  </svg>\n",
              "      </button>\n",
              "      \n",
              "  <style>\n",
              "    .colab-df-container {\n",
              "      display:flex;\n",
              "      flex-wrap:wrap;\n",
              "      gap: 12px;\n",
              "    }\n",
              "\n",
              "    .colab-df-convert {\n",
              "      background-color: #E8F0FE;\n",
              "      border: none;\n",
              "      border-radius: 50%;\n",
              "      cursor: pointer;\n",
              "      display: none;\n",
              "      fill: #1967D2;\n",
              "      height: 32px;\n",
              "      padding: 0 0 0 0;\n",
              "      width: 32px;\n",
              "    }\n",
              "\n",
              "    .colab-df-convert:hover {\n",
              "      background-color: #E2EBFA;\n",
              "      box-shadow: 0px 1px 2px rgba(60, 64, 67, 0.3), 0px 1px 3px 1px rgba(60, 64, 67, 0.15);\n",
              "      fill: #174EA6;\n",
              "    }\n",
              "\n",
              "    [theme=dark] .colab-df-convert {\n",
              "      background-color: #3B4455;\n",
              "      fill: #D2E3FC;\n",
              "    }\n",
              "\n",
              "    [theme=dark] .colab-df-convert:hover {\n",
              "      background-color: #434B5C;\n",
              "      box-shadow: 0px 1px 3px 1px rgba(0, 0, 0, 0.15);\n",
              "      filter: drop-shadow(0px 1px 2px rgba(0, 0, 0, 0.3));\n",
              "      fill: #FFFFFF;\n",
              "    }\n",
              "  </style>\n",
              "\n",
              "      <script>\n",
              "        const buttonEl =\n",
              "          document.querySelector('#df-a779184f-90d4-4601-be97-e24d7386bd0c button.colab-df-convert');\n",
              "        buttonEl.style.display =\n",
              "          google.colab.kernel.accessAllowed ? 'block' : 'none';\n",
              "\n",
              "        async function convertToInteractive(key) {\n",
              "          const element = document.querySelector('#df-a779184f-90d4-4601-be97-e24d7386bd0c');\n",
              "          const dataTable =\n",
              "            await google.colab.kernel.invokeFunction('convertToInteractive',\n",
              "                                                     [key], {});\n",
              "          if (!dataTable) return;\n",
              "\n",
              "          const docLinkHtml = 'Like what you see? Visit the ' +\n",
              "            '<a target=\"_blank\" href=https://colab.research.google.com/notebooks/data_table.ipynb>data table notebook</a>'\n",
              "            + ' to learn more about interactive tables.';\n",
              "          element.innerHTML = '';\n",
              "          dataTable['output_type'] = 'display_data';\n",
              "          await google.colab.output.renderOutput(dataTable, element);\n",
              "          const docLink = document.createElement('div');\n",
              "          docLink.innerHTML = docLinkHtml;\n",
              "          element.appendChild(docLink);\n",
              "        }\n",
              "      </script>\n",
              "    </div>\n",
              "  </div>\n",
              "  "
            ],
            "text/plain": [
              "     sepal length (cm)  sepal width (cm)  ...  petal width (cm)  species\n",
              "91                 6.1               3.0  ...               1.4        1\n",
              "63                 6.1               2.9  ...               1.4        1\n",
              "103                6.3               2.9  ...               1.8        2\n",
              "6                  4.6               3.4  ...               0.3        0\n",
              "59                 5.2               2.7  ...               1.4        1\n",
              "\n",
              "[5 rows x 5 columns]"
            ]
          },
          "metadata": {},
          "execution_count": 2
        }
      ]
    },
    {
      "cell_type": "code",
      "source": [
        "data.shape"
      ],
      "metadata": {
        "colab": {
          "base_uri": "https://localhost:8080/"
        },
        "id": "4Rlk-QeCcIGN",
        "outputId": "51a453b6-eb2e-4439-a3d5-f739f689dd02"
      },
      "execution_count": null,
      "outputs": [
        {
          "output_type": "execute_result",
          "data": {
            "text/plain": [
              "(150, 5)"
            ]
          },
          "metadata": {},
          "execution_count": 3
        }
      ]
    },
    {
      "cell_type": "code",
      "source": [
        "Ntrain = int(data.shape[0] * 0.8)\n",
        "\n",
        "train = data.iloc[:Ntrain, :]\n",
        "\n",
        "test = data.iloc[Ntrain:, :]"
      ],
      "metadata": {
        "id": "KeHvdlzbZN5E"
      },
      "execution_count": null,
      "outputs": []
    },
    {
      "cell_type": "code",
      "source": [
        "\n",
        "plength = data[\"petal length (cm)\"]\n",
        "pwidth = data[\"petal width (cm)\"]\n",
        "\n",
        "# Creamos la gráfica comparando Petal lenght (eje x) contra Petal width (eje y)\n",
        "f = plt.figure(figsize=(5,5))\n",
        "ax = f.add_subplot(1,1,1)\n",
        "ax.scatter(plength, pwidth)\n",
        "ax.set_xlabel(\"Petal Length\")\n",
        "ax.set_ylabel(\"Petal Width\")\n",
        "ax.set_title(\"Petal Width v. Length\")\n",
        "f.tight_layout()"
      ],
      "metadata": {
        "colab": {
          "base_uri": "https://localhost:8080/",
          "height": 369
        },
        "id": "WzKS6z8MZTOA",
        "outputId": "5a1663fa-056a-4b1a-dcb1-2d4d4a567fae"
      },
      "execution_count": null,
      "outputs": [
        {
          "output_type": "display_data",
          "data": {
            "image/png": "[encoded data removed]",
            "text/plain": [
              "<Figure size 360x360 with 1 Axes>"
            ]
          },
          "metadata": {
            "needs_background": "light"
          }
        }
      ]
    },
    {
      "cell_type": "markdown",
      "source": [
        "#Regresión Lineal"
      ],
      "metadata": {
        "id": "9VN08y0ZlIE8"
      }
    },
    {
      "cell_type": "code",
      "source": [
        "\n",
        "model_1 = linear_model.LinearRegression()\n",
        "\n",
        "# Ajustar el modelo a tus datos.\n",
        "model_1.fit(pd.DataFrame(train.iloc[:, 2]), train.iloc[:, 3])\n",
        "\n",
        "# Imprimir los coeficientes.\n",
        "print(\"Coef\\n\", model_1.coef_)\n",
        "\n",
        "# Imprimir el sesgo o bias.\n",
        "print(\"\\nBias\\n\", model_1.intercept_)\n",
        "print(f'\\nFunción = {model_1.coef_}x {model_1.intercept_}')"
      ],
      "metadata": {
        "colab": {
          "base_uri": "https://localhost:8080/"
        },
        "id": "g3efGUGfZgfc",
        "outputId": "126d7a26-e1c0-4597-facb-36bab4e18a63"
      },
      "execution_count": null,
      "outputs": [
        {
          "output_type": "stream",
          "name": "stdout",
          "text": [
            "Coef\n",
            " [0.41490802]\n",
            "\n",
            "Bias\n",
            " -0.357589314248546\n",
            "\n",
            "Función = [0.41490802]x -0.357589314248546\n"
          ]
        }
      ]
    },
    {
      "cell_type": "code",
      "source": [
        "# Definimos variables para acceder de forma más simple a las columnas de nuestros features.\n",
        "plength = data[\"petal length (cm)\"]\n",
        "pwidth = data[\"petal width (cm)\"]\n",
        "\n",
        "# Definimos un arreglo desde el valor mímimo del petal length hasta el máximo del petal lenght + 1, en pasos de 0.5.\n",
        "xvals = np.arange(plength.min(), plength.max()+1, 0.5)\n",
        "\n",
        "# Ecuación de nuestra regresión lineal.\n",
        "yvals = 0.4149*xvals - 0.3675\n",
        "\n",
        "# Gráficamos nuestra recta con los datos y nuestra ecuación.\n",
        "f = plt.figure(figsize=(6,6))\n",
        "ax = f.add_subplot(1,1,1)\n",
        "ax.scatter(plength, pwidth)\n",
        "ax.plot(xvals, yvals, 'k', linewidth=3)\n",
        "ax.set_xlabel(\"Petal Length\")\n",
        "ax.set_ylabel(\"Petal Width\")\n",
        "ax.set_title(\"Petal Length v. Width\")\n",
        "f.tight_layout()"
      ],
      "metadata": {
        "colab": {
          "base_uri": "https://localhost:8080/",
          "height": 441
        },
        "id": "9OMjubVlZ4Y1",
        "outputId": "16d206ad-ffe5-448f-e739-411963903d50"
      },
      "execution_count": null,
      "outputs": [
        {
          "output_type": "display_data",
          "data": {
            "image/png": "[encoded data removed]",
            "text/plain": [
              "<Figure size 432x432 with 1 Axes>"
            ]
          },
          "metadata": {
            "needs_background": "light"
          }
        }
      ]
    },
    {
      "cell_type": "code",
      "source": [
        "# Predicción con model_1 = linear_model.LinearRegression() utilizando los datos de prueba.\n",
        "y_predict = model_1.predict(pd.DataFrame(test.iloc[:,2]))\n",
        "\n",
        "# Calculamos el MSE con los valores predichos en y.\n",
        "print('El error cuadratico medio es de: ',round(mean_squared_error(test.iloc[:,3],y_predict),3))\n",
        "\n",
        "# Calculamos R^2 con los valores predichos en y\n",
        "print('R^2 es de: ',round(r2_score(test.iloc[:, 3],y_predict),3))\n",
        "\n",
        "\n"
      ],
      "metadata": {
        "colab": {
          "base_uri": "https://localhost:8080/"
        },
        "id": "rv7Zs1AUaJL7",
        "outputId": "0d9487ef-a29c-473e-c928-434c18b4a7ec"
      },
      "execution_count": null,
      "outputs": [
        {
          "output_type": "stream",
          "name": "stdout",
          "text": [
            "El error cuadratico medio es de:  0.043\n",
            "R^2 es de:  0.937\n"
          ]
        }
      ]
    },
    {
      "cell_type": "markdown",
      "source": [
        "#Regresión logística"
      ],
      "metadata": {
        "id": "tb8IkFgTxo4H"
      }
    },
    {
      "cell_type": "code",
      "source": [
        "x_train = train.iloc[:,:-1]\n",
        "y_train = train.iloc[:,-1]\n",
        "x_test = test.iloc[:,:-1]\n",
        "y_test = test.iloc[:,-1]"
      ],
      "metadata": {
        "id": "Au77rsf5xZsj"
      },
      "execution_count": null,
      "outputs": []
    },
    {
      "cell_type": "code",
      "source": [
        "model_2 = linear_model.LogisticRegression(max_iter=110)\n",
        "model_2.fit(x_train,y_train)"
      ],
      "metadata": {
        "colab": {
          "base_uri": "https://localhost:8080/"
        },
        "id": "dHFUdc-_yK5Y",
        "outputId": "ee8c2d88-1fd4-4c0d-95e8-e1cab890b9a5"
      },
      "execution_count": null,
      "outputs": [
        {
          "output_type": "execute_result",
          "data": {
            "text/plain": [
              "LogisticRegression(max_iter=110)"
            ]
          },
          "metadata": {},
          "execution_count": 11
        }
      ]
    },
    {
      "cell_type": "code",
      "source": [
        "y_pred = model_2.predict(x_test)"
      ],
      "metadata": {
        "id": "92QTHOWUzUD5"
      },
      "execution_count": null,
      "outputs": []
    },
    {
      "cell_type": "code",
      "source": [
        "accuracy_score(y_test,y_pred)"
      ],
      "metadata": {
        "colab": {
          "base_uri": "https://localhost:8080/"
        },
        "id": "6wq7KLcDza1x",
        "outputId": "b3a6f363-373f-4e5d-f681-5a9857cd950e"
      },
      "execution_count": null,
      "outputs": [
        {
          "output_type": "execute_result",
          "data": {
            "text/plain": [
              "1.0"
            ]
          },
          "metadata": {},
          "execution_count": 13
        }
      ]
    },
    {
      "cell_type": "code",
      "source": [
        "from sklearn.metrics import confusion_matrix\n",
        "confusion_matrix(y_test,y_pred)"
      ],
      "metadata": {
        "colab": {
          "base_uri": "https://localhost:8080/"
        },
        "id": "Q_W8S9Ph0J21",
        "outputId": "899c8b60-1a1c-4ad0-c188-d8491c6a74e3"
      },
      "execution_count": null,
      "outputs": [
        {
          "output_type": "execute_result",
          "data": {
            "text/plain": [
              "array([[11,  0,  0],\n",
              "       [ 0,  7,  0],\n",
              "       [ 0,  0, 12]])"
            ]
          },
          "metadata": {},
          "execution_count": 14
        }
      ]
    },
    {
      "cell_type": "code",
      "source": [
        ""
      ],
      "metadata": {
        "id": "sH6A1_kp1n93"
      },
      "execution_count": null,
      "outputs": []
    },
    {
      "cell_type": "markdown",
      "source": [
        "#Random Forest"
      ],
      "metadata": {
        "id": "P-tb4qiv2Hm5"
      }
    },
    {
      "cell_type": "code",
      "source": [
        "clf = RandomForestClassifier(n_estimators=3)\n",
        "clf.fit(x_train,y_train)"
      ],
      "metadata": {
        "colab": {
          "base_uri": "https://localhost:8080/"
        },
        "id": "qk71MAkQ2JjF",
        "outputId": "7ed0e8be-02d3-4c2c-e426-c29fc479e023"
      },
      "execution_count": null,
      "outputs": [
        {
          "output_type": "execute_result",
          "data": {
            "text/plain": [
              "RandomForestClassifier(n_estimators=3)"
            ]
          },
          "metadata": {},
          "execution_count": 15
        }
      ]
    },
    {
      "cell_type": "code",
      "source": [
        "y_pred_RM = clf.predict(x_test)"
      ],
      "metadata": {
        "id": "AVP5BuUF2hUM"
      },
      "execution_count": null,
      "outputs": []
    },
    {
      "cell_type": "code",
      "source": [
        "print(\"Testing accuracy =\",accuracy_score(y_test,y_pred_RM))"
      ],
      "metadata": {
        "colab": {
          "base_uri": "https://localhost:8080/"
        },
        "id": "HKDpW_8I2txm",
        "outputId": "ae8970a7-c574-4207-b0fd-38d1995a22b9"
      },
      "execution_count": null,
      "outputs": [
        {
          "output_type": "stream",
          "name": "stdout",
          "text": [
            "Testing accuracy = 0.9666666666666667\n"
          ]
        }
      ]
    },
    {
      "cell_type": "markdown",
      "source": [
        "#K-Means clustering"
      ],
      "metadata": {
        "id": "NZiip0JR4yT-"
      }
    },
    {
      "cell_type": "code",
      "source": [
        "kmodel = KMeans(n_clusters=3,random_state=42)\n",
        "kmodel.fit(data[['petal length (cm)','petal width (cm)']])"
      ],
      "metadata": {
        "id": "dnn6ruWM4wcM",
        "colab": {
          "base_uri": "https://localhost:8080/"
        },
        "outputId": "d7cedb9e-ee37-41e8-de76-6ce783a5dbfd"
      },
      "execution_count": null,
      "outputs": [
        {
          "output_type": "execute_result",
          "data": {
            "text/plain": [
              "KMeans(n_clusters=3, random_state=42)"
            ]
          },
          "metadata": {},
          "execution_count": 194
        }
      ]
    },
    {
      "cell_type": "code",
      "source": [
        "print('Inertia: ',round(kmodel.inertia_,3))"
      ],
      "metadata": {
        "colab": {
          "base_uri": "https://localhost:8080/"
        },
        "id": "rpkZdOTRX1V8",
        "outputId": "2cc7f733-6116-4af7-9205-bff1205b6fbd"
      },
      "execution_count": null,
      "outputs": [
        {
          "output_type": "stream",
          "name": "stdout",
          "text": [
            "Inertia:  31.371\n"
          ]
        }
      ]
    },
    {
      "cell_type": "code",
      "source": [
        "centroides = kmodel.cluster_centers_\n",
        "print('Centroids (x,y): \\n', centroides)"
      ],
      "metadata": {
        "colab": {
          "base_uri": "https://localhost:8080/"
        },
        "id": "WiGkcD45X9Rd",
        "outputId": "8facfde0-a303-41ee-c686-c20efd611bd8"
      },
      "execution_count": null,
      "outputs": [
        {
          "output_type": "stream",
          "name": "stdout",
          "text": [
            "Centroids (x,y): \n",
            " [[4.26923077 1.34230769]\n",
            " [1.462      0.246     ]\n",
            " [5.59583333 2.0375    ]]\n"
          ]
        }
      ]
    },
    {
      "cell_type": "code",
      "source": [
        "from numpy.core.fromnumeric import size\n",
        "f = plt.figure(figsize=(6,6))\n",
        "ax = f.add_subplot(1,1,1)\n",
        "#setosa\n",
        "ax.scatter(data[data.iloc[:,-1]==0]['petal length (cm)'],\n",
        "           data[data.iloc[:,-1]==0]['petal width (cm)'],\n",
        "           c = 'k')\n",
        "#versicolor\n",
        "ax.scatter(data[data.iloc[:,-1]==1]['petal length (cm)'],\n",
        "           data[data.iloc[:,-1]==1]['petal width (cm)'],\n",
        "           c = 'r')\n",
        "#virginica\n",
        "ax.scatter(data[data.iloc[:,-1]==2]['petal length (cm)'],\n",
        "           data[data.iloc[:,-1]==2]['petal width (cm)'],\n",
        "           c = 'b')\n",
        "\n",
        "#Centroides\n",
        "ax.plot(centroides[0,0],centroides[0,1],\"v\", markersize=20)\n",
        "ax.plot(centroides[1,0],centroides[1,1],\"v\", markersize=20)\n",
        "ax.plot(centroides[2,0],centroides[2,1],\"v\", markersize=20)\n",
        "ax.set_xlabel(\"Petal Length\")\n",
        "ax.set_ylabel(\"Petal Width\")\n",
        "ax.set_title(\"Petal Length v. Width\")\n",
        "f.tight_layout()"
      ],
      "metadata": {
        "colab": {
          "base_uri": "https://localhost:8080/",
          "height": 441
        },
        "id": "1nBIY-SWYka0",
        "outputId": "4726f761-61f0-42a4-cdd1-6366759d480c"
      },
      "execution_count": null,
      "outputs": [
        {
          "output_type": "display_data",
          "data": {
            "image/png": "[encoded data removed]",
            "text/plain": [
              "<Figure size 432x432 with 1 Axes>"
            ]
          },
          "metadata": {
            "needs_background": "light"
          }
        }
      ]
    }
  ]
}